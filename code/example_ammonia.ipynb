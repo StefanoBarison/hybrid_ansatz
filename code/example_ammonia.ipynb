{
 "cells": [
  {
   "cell_type": "code",
   "execution_count": 1,
   "id": "10eb9e18-e2d6-4a44-aafc-be23eef6d2da",
   "metadata": {},
   "outputs": [],
   "source": [
    "%load_ext autoreload\n",
    "%autoreload 2\n",
    "#import plum\n",
    "#plum.autoreload.activate()"
   ]
  },
  {
   "cell_type": "code",
   "execution_count": 2,
   "id": "7046294b-3e20-4bb5-9441-730a5cc6e871",
   "metadata": {},
   "outputs": [],
   "source": [
    "import numpy as np\n",
    "import matplotlib.pyplot as plt\n",
    "import time\n",
    "import json\n",
    "\n",
    "from functools import partial, reduce"
   ]
  },
  {
   "cell_type": "code",
   "execution_count": 3,
   "id": "d5a32065-d17d-43c0-8bc2-92792f2df5e1",
   "metadata": {},
   "outputs": [
    {
     "name": "stderr",
     "output_type": "stream",
     "text": [
      "/opt/anaconda3/envs/q_embedding_new/lib/python3.8/site-packages/flax/core/frozen_dict.py:169: FutureWarning: jax.tree_util.register_keypaths is deprecated, and will be removed in a future release. Please use `register_pytree_with_keys()` instead.\n",
      "  jax.tree_util.register_keypaths(\n"
     ]
    }
   ],
   "source": [
    "# Added to silence some warnings.\n",
    "from jax.config import config\n",
    "config.update(\"jax_enable_x64\", True)\n",
    "\n",
    "import jax\n",
    "import jax.numpy as jnp\n",
    "\n",
    "import flax\n",
    "import optax"
   ]
  },
  {
   "cell_type": "code",
   "execution_count": 4,
   "id": "530b426a-8563-42ae-8783-d9e82fbcf813",
   "metadata": {},
   "outputs": [],
   "source": [
    "import pennylane as qml\n",
    "import netket as nk\n",
    "from netket.operator.spin import sigmax,sigmaz"
   ]
  },
  {
   "cell_type": "code",
   "execution_count": 5,
   "id": "56c2f8ec-a006-42b8-9f39-98c626190216",
   "metadata": {},
   "outputs": [],
   "source": [
    "np.set_printoptions(precision=4)\n",
    "np.set_printoptions(linewidth=250)"
   ]
  },
  {
   "cell_type": "code",
   "execution_count": 6,
   "id": "457f896b-8835-46bb-a970-c3d939cf908d",
   "metadata": {},
   "outputs": [],
   "source": [
    "from utils                  import *\n",
    "from hamiltonians           import *\n",
    "from quantum_circuits       import *\n",
    "from classic_models         import *\n",
    "from truncated_spin         import Spin"
   ]
  },
  {
   "attachments": {},
   "cell_type": "markdown",
   "id": "795ea94a",
   "metadata": {},
   "source": [
    "## Ammonia - System and Hamiltonian"
   ]
  },
  {
   "cell_type": "code",
   "execution_count": 7,
   "id": "50adc7ca-fed7-422a-9575-e38c69c094ec",
   "metadata": {},
   "outputs": [],
   "source": [
    "phys_qubits       = 4\n",
    "n_classical_spins = 2\n",
    "\n",
    "ancilla_qubits    = 1\n",
    "tot_qubits        = phys_qubits + ancilla_qubits\n",
    "\n",
    "q_index           = [0,1,2,3]\n",
    "c_index           = [4,5]#,6,7,8,9,10,11]#,12,13]\n",
    "tot_spins         = n_classical_spins + phys_qubits\n",
    "tot_elec_classic  = 2 #number of electrons in the classical part\n",
    "tot_elec_quantum  = 2 #number of electrons in the quantum part (always 2 in the HONO/LUNO active space)\n",
    "tot_elec          = tot_elec_classic+tot_elec_quantum"
   ]
  },
  {
   "cell_type": "code",
   "execution_count": 8,
   "id": "8cbb95fb-6f2f-44dc-98fe-454bad4c910c",
   "metadata": {},
   "outputs": [
    {
     "name": "stdout",
     "output_type": "stream",
     "text": [
      "Max up: 1 min up: 0\n"
     ]
    }
   ],
   "source": [
    "device_phys         = qml.device(\"default.qubit\", wires=list(range(phys_qubits)))\n",
    "device_with_ancilla = qml.device(\"default.qubit\", wires=list(range(phys_qubits))+[\"a\"])\n",
    "\n",
    "# Define the Hilbert space by specifying the maximum and minimum amount of electrons with spin up and down\n",
    "\n",
    "max_up = tot_elec//2\n",
    "if max_up >  n_classical_spins//2:\n",
    "    max_up = n_classical_spins//2\n",
    "\n",
    "min_up = tot_elec//2-phys_qubits//2\n",
    "\n",
    "print(\"Max up:\",max_up,\"min up:\", min_up)\n",
    "# Particle preserving hilbert space\n",
    "valid_samples = True # If True, the samples are generated with the correct number of particles\n",
    "hi = Spin(N=n_classical_spins//2, maximum_up=max_up,minimum_up=min_up) * Spin(N=n_classical_spins//2, maximum_up=max_up,minimum_up=min_up)"
   ]
  },
  {
   "cell_type": "code",
   "execution_count": 9,
   "id": "9054012a-dc6a-4d23-b0fc-41dbee65e597",
   "metadata": {},
   "outputs": [],
   "source": [
    "## Prepare the Hamiltonian\n",
    "\n",
    "m_name     = \"NH3\"\n",
    "orbit_list = [0,1,2,6,7]\n",
    "orbit_str  = \"\".join([str(orb) for orb in orbit_list])\n",
    "distance   = 1.5\n",
    "\n",
    "mol_file = \"./../data/ammonia/NH3_qubit_op/NH3_\"+orbit_str+\"reduced/\"+m_name+\"_qubit_op_\"+str(tot_spins)+\"qubits_\"+str(distance)+\"r_\"+orbit_str+\"reduced\"+\"_aug-cc-pvqz_iao.dat\""
   ]
  },
  {
   "cell_type": "code",
   "execution_count": 10,
   "id": "9b68e338-cb7f-4b3e-8277-142bfdfa6536",
   "metadata": {},
   "outputs": [
    {
     "name": "stdout",
     "output_type": "stream",
     "text": [
      "Number of pure  quantum op: 27\n",
      "Number of pure  classic op: 3\n",
      "Number of       mixed   op: 88\n",
      "Number of quantum    group: 72\n"
     ]
    }
   ],
   "source": [
    "h_mixed = mixed_hami_from_file(mol_file, hi, tot_spins, q_index, c_index)"
   ]
  },
  {
   "attachments": {},
   "cell_type": "markdown",
   "id": "dbeef506-2066-4663-95dd-1d09dd51f0c6",
   "metadata": {},
   "source": [
    "#### Energy of the GS "
   ]
  },
  {
   "cell_type": "code",
   "execution_count": 11,
   "id": "2b4e5a6f-8b74-40fa-87bf-589303d117b5",
   "metadata": {},
   "outputs": [],
   "source": [
    "#hi_tot    = Spin(N=tot_spins//2,maximum_up=tot_elec//2, minimum_up=tot_elec//2)*Spin(N=tot_spins//2,maximum_up=tot_elec//2, minimum_up=tot_elec//2)\n",
    "#hi_tot_non_truncated    = nk.hilbert.Spin(s=1/2,N=tot_spins) # Non-truncated hilbert space\n",
    "hi_tot    = Spin(N=tot_spins,maximum_up=tot_elec, minimum_up=tot_elec)"
   ]
  },
  {
   "cell_type": "code",
   "execution_count": 12,
   "id": "da1fb2e8-2019-4c30-841a-324354e61d6f",
   "metadata": {},
   "outputs": [],
   "source": [
    "## Total Hamiltonian\n",
    "htot_nk = netket_hami_from_file(mol_file, hi_tot, tot_spins)"
   ]
  },
  {
   "cell_type": "code",
   "execution_count": 13,
   "id": "371e9472-ba63-4232-a976-6ad88d5ff5cd",
   "metadata": {},
   "outputs": [],
   "source": [
    "## Ground state energy\n",
    "E_gs, psi_gs = nk.exact.lanczos_ed(htot_nk, compute_eigenvectors=True)"
   ]
  },
  {
   "cell_type": "code",
   "execution_count": 14,
   "id": "1db05cc6-b3d0-485d-b390-c8e405dda403",
   "metadata": {},
   "outputs": [
    {
     "data": {
      "text/plain": [
       "-56.1676555058106"
      ]
     },
     "execution_count": 14,
     "metadata": {},
     "output_type": "execute_result"
    }
   ],
   "source": [
    "E_gs[0]"
   ]
  },
  {
   "attachments": {},
   "cell_type": "markdown",
   "id": "e248c26c-ce92-430b-bb69-939b0bed02ad",
   "metadata": {},
   "source": [
    "## Circuit"
   ]
  },
  {
   "cell_type": "code",
   "execution_count": 15,
   "id": "d9c03e67-f230-4f6d-a70d-ce998a66e4ec",
   "metadata": {},
   "outputs": [],
   "source": [
    "## Total circuit\n",
    "\n",
    "depth   =  1\n",
    "my_circ = (circ_pass, molecule_jw_init_singles, circ_chemistry_double)"
   ]
  },
  {
   "cell_type": "code",
   "execution_count": 16,
   "id": "d1375376-686e-4012-b5de-4e5c559db954",
   "metadata": {},
   "outputs": [],
   "source": [
    "## Print the circuit\n",
    "draw_device = qml.device(\"default.qubit\", list(range(phys_qubits))+[\"a\"])"
   ]
  },
  {
   "cell_type": "code",
   "execution_count": 17,
   "id": "bbfa711d-7a17-45e7-a3bf-8fc04c6bd6a2",
   "metadata": {},
   "outputs": [],
   "source": [
    "@qml.qnode(draw_device)\n",
    "def draw_circuit(params,θ_σ,θ_η):\n",
    "    \n",
    "    my_circ[1](draw_device, params, θ_σ, θ_η)\n",
    "    my_circ[2](draw_device,  params)\n",
    "    \n",
    "        \n",
    "    return qml.expval(qml.PauliZ(1))\n",
    "    #return qml.state()"
   ]
  },
  {
   "cell_type": "code",
   "execution_count": 26,
   "id": "92d497db-ec1e-488c-ab74-e1bee0f8d91c",
   "metadata": {},
   "outputs": [
    {
     "name": "stdout",
     "output_type": "stream",
     "text": [
      "0: ──CX(0.00)──||─╭G(0.00)──||─╭G²(1.00)──||─┤     \n",
      "1: ──CX(1.00)──||─╰G(0.00)──||─├G²(1.00)──||─┤  <Z>\n",
      "2: ──CX(0.00)──||─╭G(1.00)──||─├G²(1.00)──||─┤     \n",
      "3: ──CX(1.00)──||─╰G(1.00)──||─╰G²(1.00)──||─┤     \n"
     ]
    }
   ],
   "source": [
    "drawer = qml.draw(draw_circuit)\n",
    "print(drawer(jnp.asarray(list(range(1,2))),jnp.asarray([1,1]+list(range(2))),None))"
   ]
  },
  {
   "attachments": {},
   "cell_type": "markdown",
   "id": "f9d9673e-0918-4748-bc83-28f0dc69a6ae",
   "metadata": {
    "tags": []
   },
   "source": [
    "## Final training "
   ]
  },
  {
   "cell_type": "code",
   "execution_count": 19,
   "id": "c949647b-489d-4694-9332-2f7a95cfdfd0",
   "metadata": {},
   "outputs": [],
   "source": [
    "seed    = jax.random.PRNGKey(int(time.time()))\n",
    "\n",
    "########## Initialise RBM Spin Machine\n",
    "ma        = nk.models.RBM(alpha=1, param_dtype=float)\n",
    "ma_lin    = RBM_Linear(alpha=1, param_dtype=float)\n",
    "# Random initialization\n",
    "pars_c     = ma.init(jax.random.PRNGKey(int(time.time())), hi.random_state(seed, 1))\n",
    "pars_c_lin = ma_lin.init(jax.random.PRNGKey(int(time.time())), hi.random_state(seed, 1))\n",
    "\n",
    "## Initialise the sampler \n",
    "#sa       = nk.sampler.MetropolisLocal(hi, n_chains=10) # Metropolis sampling for large systems\n",
    "sa       = nk.sampler.ExactSampler(hi) # Exact sampling for small systems\n",
    "sa_state = sa.init_state(ma, pars_c, seed)"
   ]
  },
  {
   "cell_type": "code",
   "execution_count": 20,
   "id": "bddaa4a8",
   "metadata": {},
   "outputs": [],
   "source": [
    "########## Sample to angle machine\n",
    "angles_a = 2  \n",
    "alpha_a  = 2\n",
    "sta    = Sample_to_angle_particle_preserving(alpha=alpha_a, angles=angles_a,n_elec=tot_elec_classic+tot_elec_quantum, param_dtype=float)\n",
    "pars_a = sta.init(jax.random.PRNGKey(int(time.time())), jnp.array([-1 for  i in range(n_classical_spins)]))\n",
    "\n",
    "\n",
    "########## Quantum circuit\n",
    "pars_q = np.random.rand(1)\n",
    "\n",
    "# Put quantum and classical params together\n",
    "pars_all            = flax.core.unfreeze(pars_c)\n",
    "pars_all['quantum'] = pars_q\n",
    "pars_all['angles']  = pars_a\n",
    "pars_all            = flax.core.freeze(pars_all)"
   ]
  },
  {
   "attachments": {},
   "cell_type": "markdown",
   "id": "05f3bfce",
   "metadata": {},
   "source": [
    "### Optimizer"
   ]
  },
  {
   "cell_type": "code",
   "execution_count": 21,
   "id": "8250c8bb",
   "metadata": {},
   "outputs": [],
   "source": [
    "########### Declare the optimizer\n",
    "# Mixed with SR\n",
    "# using SGD if we choose to use SR in the classical parameters\n",
    "sr       = True\n",
    "unbiased = False # True if we want to use the unbiased estimator    \n",
    "\n",
    "\n",
    "if sr:\n",
    "    opt_classical = optax.sgd(0.01)\n",
    "else:\n",
    "    opt_classical = optax.adam(learning_rate=0.01) \n",
    "\n",
    "opt_quantum = optax.adam(learning_rate=0.01)#optax.sgd(0.0)#\n",
    "opt_angles  = optax.adam(learning_rate=0.01) #optax.yogi(learning_rate=0.01)#\n",
    "optimizer   = optax.multi_transform({'o1': opt_classical, 'o2': opt_quantum,'o3': opt_angles}, flax.core.freeze({\"params\":\"o1\", \"quantum\":\"o2\", \"angles\":\"o3\"}))\n",
    "\n",
    "opt_state = optimizer.init(pars_all)"
   ]
  },
  {
   "attachments": {},
   "cell_type": "markdown",
   "id": "a4f98355-120b-4224-a0d7-a968ba4ea1ed",
   "metadata": {},
   "source": [
    "## Optimization loop"
   ]
  },
  {
   "cell_type": "code",
   "execution_count": 22,
   "id": "45feacb9-8371-4cc8-8ffc-57f8ef9fafea",
   "metadata": {},
   "outputs": [],
   "source": [
    "## Loop info\n",
    "n_steps    = 1\n",
    "n_samples  = 1000"
   ]
  },
  {
   "cell_type": "code",
   "execution_count": 23,
   "id": "275aafb2-9d4f-4a97-9d3f-51766f1d9156",
   "metadata": {},
   "outputs": [],
   "source": [
    "## Saving quantities \n",
    "\n",
    "## Total energies and errors\n",
    "e_vec      = []\n",
    "## Gradient \n",
    "grad_vec = []"
   ]
  },
  {
   "cell_type": "code",
   "execution_count": 24,
   "id": "c18b8d7c-6f46-4acb-af12-a68965ff5100",
   "metadata": {},
   "outputs": [
    {
     "name": "stdout",
     "output_type": "stream",
     "text": [
      "Step 0, energy: -55.80636010 +- 0.00494194\n",
      "--------------------------------------------------------------\n",
      "Final energy: -55.8064-0.0000j ± 0.0049 [σ²=0.0323]\n"
     ]
    }
   ],
   "source": [
    "# Save the best result\n",
    "\n",
    "e_best     = 10\n",
    "pars_best  = pars_all\n",
    "sigma_best = 0\n",
    "save_step  = 5\n",
    "\n",
    "for step_c in range(n_steps):\n",
    "    pars_ac, pars_q = pars_all.pop(\"quantum\")\n",
    "    pars_c, pars_a  = pars_ac.pop(\"angles\")\n",
    "    \n",
    "    # Sample from the classical distribution\n",
    "    \n",
    "    sa_state        = sa.reset( ma, pars_c, sa_state)\n",
    "    sigma, sa_state = sa.sample(ma, pars_c, state=sa_state, chain_length=n_samples)\n",
    "    \n",
    "    # Evaluate the energy both on classical and quantum computer\n",
    "    energy, grad_e = e_tot_and_grad(ma, ma_lin, device_with_ancilla, my_circ, pars_all, sigma, sta, h_mixed,unbiased=unbiased,valid_samples=valid_samples)\n",
    "\n",
    "    ## =================== SR for the classical gradient ===================\n",
    "    if sr:\n",
    "\n",
    "        grad_e_real = jax.tree_map(lambda x : x.real, grad_e)\n",
    "        grad_e      = compute_SR(ma,sigma,grad_e_real,pars_c,diag_shift=0.001)\n",
    "    \n",
    "    #=======================================================================\n",
    "    \n",
    "        \n",
    "    ## Print energy    \n",
    "    if step_c % 50 == 0:\n",
    "        \n",
    "        print(f\"Step {step_c}, energy: {energy.mean.real:.8f} +- {energy.error_of_mean:.8f}\")\n",
    "        print(\"--------------------------------------------------------------\")\n",
    "        \n",
    "    e_vec.append(energy)\n",
    "    grad_vec.append(grad_e)\n",
    "    \n",
    "    # Save the best results\n",
    "    if energy.mean < e_best:\n",
    "        e_best     = energy.mean\n",
    "        pars_best  = pars_all\n",
    "        sigma_best = sigma\n",
    "    \n",
    "   \n",
    "    # With optax\n",
    "    pars_all, opt_state = optimizer_step(optimizer,opt_state, grad_e, pars_all)\n",
    "    \n",
    "print(f\"Final energy: {energy}\")"
   ]
  },
  {
   "cell_type": "code",
   "execution_count": 56,
   "id": "9bc84cb3-f48c-43d5-9907-68ef487b2c12",
   "metadata": {},
   "outputs": [
    {
     "data": {
      "text/plain": [
       "-5.617e+01-7.198e-15j ± 0.000e+00 [σ²=0.000e+00]"
      ]
     },
     "execution_count": 56,
     "metadata": {},
     "output_type": "execute_result"
    }
   ],
   "source": [
    "final_variational = e_tot(ma, device_with_ancilla, my_circ, pars_best, sigma_best.reshape(-1, sigma_best.shape[-1]), sta, h_mixed,valid_samples=valid_samples)\n",
    "final_variational  "
   ]
  },
  {
   "cell_type": "code",
   "execution_count": 57,
   "id": "b73d090c-c478-4a6a-9ac4-7abcb08e04a7",
   "metadata": {},
   "outputs": [
    {
     "data": {
      "image/png": "[encoded data removed]",
      "text/plain": [
       "<Figure size 640x480 with 1 Axes>"
      ]
     },
     "metadata": {},
     "output_type": "display_data"
    }
   ],
   "source": [
    "## Plot NN final state \n",
    "## Extract params\n",
    "pars_ac, pars_q = pars_best.pop(\"quantum\")\n",
    "pars_c, pars_a  = pars_ac.pop(\"angles\")\n",
    "\n",
    "σ  = hi.all_states()\n",
    "wfn_c = jnp.exp(ma.apply(pars_c, σ))\n",
    "wfn_c = wfn_c / jnp.sqrt(jnp.sum(jnp.abs(wfn_c)**2))\n",
    "\n",
    "#plt.plot(jnp.sqrt(jnp.abs(psi_gs)**2),label=\"Exact\")\n",
    "plt.plot(jnp.sqrt(jnp.abs(wfn_c)**2),label=\"Variational - RBM\",linestyle=\"solid\")\n",
    "plt.legend(loc=\"upper center\", bbox_to_anchor=(0.5, 1.13),ncol=2)\n",
    "plt.xlabel(\"Component\")\n",
    "plt.ylabel(r\"$|\\psi|^2$\")\n",
    "plt.ylim(ymin=1e-4)\n",
    "plt.show()"
   ]
  },
  {
   "attachments": {},
   "cell_type": "markdown",
   "id": "e77f0a0c-8156-49f7-a456-a03d79428509",
   "metadata": {},
   "source": [
    "## Plot data"
   ]
  },
  {
   "attachments": {},
   "cell_type": "markdown",
   "id": "4bc1585f-4ce5-43d1-9aa8-6798a74f6cbd",
   "metadata": {},
   "source": [
    "#### Plot total energy"
   ]
  },
  {
   "cell_type": "code",
   "execution_count": 58,
   "id": "5ac5f37d-34e9-44c8-8969-5ca236e4289f",
   "metadata": {},
   "outputs": [
    {
     "data": {
      "image/png": "[encoded data removed]",
      "text/plain": [
       "<Figure size 600x500 with 1 Axes>"
      ]
     },
     "metadata": {},
     "output_type": "display_data"
    }
   ],
   "source": [
    "fig, ax = plt.subplots(1,figsize=[6.0,5.0],sharex=True)\n",
    "e_tot_ref = E_gs#energy_exact[\"1.5\"][orbit_str][0]\n",
    "\n",
    "\n",
    "mean_e = np.asarray([np.real(energy.mean) for energy in e_vec])\n",
    "err_e  = np.asarray([np.real(energy.error_of_mean) for energy in e_vec])\n",
    "var_e  = np.asarray([np.real(energy.variance) for energy in e_vec])\n",
    "\n",
    "n_opt  = list(range(len(mean_e)))\n",
    "\n",
    "\n",
    "\n",
    "## Plot energy with error\n",
    "ax.fill_between(n_opt, mean_e-err_e-e_tot_ref, mean_e+err_e-e_tot_ref, color=\"C0\", alpha=0.5)\n",
    "ax.errorbar(n_opt,mean_e-e_tot_ref,label=\"E variational\",color=\"C0\")\n",
    "\n",
    "\n",
    "\n",
    "ax.set_xlabel(\"Step\")\n",
    "ax.set_ylabel(r\"$E_{VQE}-E_{GS}$\")\n",
    "ax.legend()\n",
    "ax.grid()\n",
    "ax.set_yscale(\"log\")\n",
    "\n",
    "fig.subplots_adjust(hspace=0.04)\n",
    "plt.show()"
   ]
  }
 ],
 "metadata": {
  "kernelspec": {
   "display_name": "q_embedding_new",
   "language": "python",
   "name": "python3"
  },
  "language_info": {
   "codemirror_mode": {
    "name": "ipython",
    "version": 3
   },
   "file_extension": ".py",
   "mimetype": "text/x-python",
   "name": "python",
   "nbconvert_exporter": "python",
   "pygments_lexer": "ipython3",
   "version": "3.8.13"
  },
  "vscode": {
   "interpreter": {
    "hash": "45553f8e4cefe87835cbae6f54a3b5ca1b4f1d6f4838dda3049e363907c910f1"
   }
  }
 },
 "nbformat": 4,
 "nbformat_minor": 5
}
