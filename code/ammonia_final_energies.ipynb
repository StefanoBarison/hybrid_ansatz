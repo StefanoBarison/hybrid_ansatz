{
 "cells": [
  {
   "attachments": {},
   "cell_type": "markdown",
   "metadata": {},
   "source": [
    "### Code to retrieve parameters from a calculation and estimate final energy and error"
   ]
  },
  {
   "cell_type": "code",
   "execution_count": 1,
   "metadata": {},
   "outputs": [],
   "source": [
    "%load_ext autoreload\n",
    "%autoreload 2\n",
    "#import plum\n",
    "#plum.autoreload.activate()"
   ]
  },
  {
   "cell_type": "code",
   "execution_count": 2,
   "metadata": {},
   "outputs": [],
   "source": [
    "import numpy as np\n",
    "import matplotlib.pyplot as plt\n",
    "import time\n",
    "import json\n",
    "\n",
    "from functools import partial, reduce"
   ]
  },
  {
   "cell_type": "code",
   "execution_count": 3,
   "metadata": {},
   "outputs": [
    {
     "name": "stderr",
     "output_type": "stream",
     "text": [
      "/opt/anaconda3/envs/q_embedding_new/lib/python3.8/site-packages/flax/core/frozen_dict.py:169: FutureWarning: jax.tree_util.register_keypaths is deprecated, and will be removed in a future release. Please use `register_pytree_with_keys()` instead.\n",
      "  jax.tree_util.register_keypaths(\n"
     ]
    }
   ],
   "source": [
    "# Added to silence some warnings.\n",
    "from jax.config import config\n",
    "config.update(\"jax_enable_x64\", True)\n",
    "\n",
    "import jax\n",
    "import jax.numpy as jnp\n",
    "\n",
    "import flax\n",
    "import optax"
   ]
  },
  {
   "cell_type": "code",
   "execution_count": 4,
   "metadata": {},
   "outputs": [],
   "source": [
    "import pennylane as qml\n",
    "import netket as nk\n",
    "from netket.operator.spin import sigmax,sigmaz"
   ]
  },
  {
   "cell_type": "code",
   "execution_count": 5,
   "metadata": {},
   "outputs": [],
   "source": [
    "np.set_printoptions(precision=4)\n",
    "np.set_printoptions(linewidth=250)"
   ]
  },
  {
   "cell_type": "code",
   "execution_count": 6,
   "metadata": {},
   "outputs": [],
   "source": [
    "from utils                  import *\n",
    "from hamiltonians           import *\n",
    "from quantum_circuits       import *\n",
    "from classic_models         import *\n",
    "from truncated_spin         import Spin"
   ]
  },
  {
   "attachments": {},
   "cell_type": "markdown",
   "metadata": {},
   "source": [
    "## Ammonia - System and Hamiltonian"
   ]
  },
  {
   "cell_type": "code",
   "execution_count": 7,
   "metadata": {},
   "outputs": [],
   "source": [
    "phys_qubits       = 4\n",
    "n_classical_spins = 10\n",
    "\n",
    "ancilla_qubits    = 1\n",
    "tot_qubits        = phys_qubits + ancilla_qubits\n",
    "\n",
    "q_index           = [0,1,2,3]\n",
    "q_str             = \"\".join([str(orb) for orb in q_index])\n",
    "c_index           = [4,5,6,7,8,9,10,11,12,13]\n",
    "tot_spins         = n_classical_spins + phys_qubits\n",
    "tot_elec_classic  = 6 #number of electrons in the classical part\n",
    "tot_elec_quantum  = 2 #number of electrons in the quantum part (always 2 in the HONO/LUNO active space)\n",
    "tot_elec          = tot_elec_classic+tot_elec_quantum"
   ]
  },
  {
   "cell_type": "code",
   "execution_count": 8,
   "metadata": {},
   "outputs": [
    {
     "name": "stdout",
     "output_type": "stream",
     "text": [
      "Max up: 4 min up: 2\n"
     ]
    }
   ],
   "source": [
    "device_phys         = qml.device(\"default.qubit\", wires=list(range(phys_qubits)))\n",
    "device_with_ancilla = qml.device(\"default.qubit\", wires=list(range(phys_qubits))+[\"a\"])\n",
    "\n",
    "# Define the Hilbert space by specifying the maximum and minimum amount of electrons with spin up and down\n",
    "\n",
    "max_up = tot_elec//2\n",
    "if max_up >  n_classical_spins//2:\n",
    "    max_up = n_classical_spins//2\n",
    "\n",
    "min_up = tot_elec//2-phys_qubits//2\n",
    "\n",
    "print(\"Max up:\",max_up,\"min up:\", min_up)\n",
    "# Particle preserving hilbert space\n",
    "valid_samples = True # If True, the samples are generated with the correct number of particles\n",
    "hi = Spin(N=n_classical_spins//2, maximum_up=max_up,minimum_up=min_up) * Spin(N=n_classical_spins//2, maximum_up=max_up,minimum_up=min_up)"
   ]
  },
  {
   "cell_type": "code",
   "execution_count": 9,
   "metadata": {},
   "outputs": [],
   "source": [
    "## Prepare the Hamiltonian\n",
    "\n",
    "m_name     = \"NH3\"\n",
    "orbit_list = [0]\n",
    "orbit_str  = \"\".join([str(orb) for orb in orbit_list])\n",
    "distance   = 1.5\n",
    "\n",
    "mol_file = \"./../../data/ammonia/NH3_qubit_op/NH3_\"+orbit_str+\"reduced/\"+m_name+\"_qubit_op_\"+str(tot_spins)+\"qubits_\"+str(distance)+\"r_\"+orbit_str+\"reduced\"+\"_aug-cc-pvqz_iao.dat\""
   ]
  },
  {
   "cell_type": "code",
   "execution_count": 10,
   "metadata": {},
   "outputs": [
    {
     "name": "stdout",
     "output_type": "stream",
     "text": [
      "Number of pure  quantum op: 27\n",
      "Number of pure  classic op: 443\n",
      "Number of       mixed   op: 1272\n",
      "Number of quantum    group: 76\n"
     ]
    }
   ],
   "source": [
    "h_mixed = mixed_hami_from_file(mol_file, hi, tot_spins, q_index, c_index)"
   ]
  },
  {
   "attachments": {},
   "cell_type": "markdown",
   "metadata": {},
   "source": [
    "## Retrieve the ansatz"
   ]
  },
  {
   "cell_type": "code",
   "execution_count": 15,
   "metadata": {},
   "outputs": [],
   "source": [
    "alpha_a  = 2\n",
    "angles_a = 2\n",
    "alpha_c  = 1\n",
    "\n",
    "tot_steps = 1500\n",
    "n_samples = 20000"
   ]
  },
  {
   "cell_type": "code",
   "execution_count": 16,
   "metadata": {},
   "outputs": [],
   "source": [
    "model_file = \"./../../data/ammonia/NH3_hybrid_parameters/q_embedding_\"+str(phys_qubits)+\"qubits_\"+str(n_classical_spins)+\"spins_\"+str(alpha_c)+\"alpha_\"+str(angles_a)+\"angles_\"+orbit_str+\"orbitals_\"+q_str+\"active_\"+str(tot_steps)+\"steps_\"+str(n_samples)+\"samples.dat\""
   ]
  },
  {
   "cell_type": "code",
   "execution_count": 17,
   "metadata": {},
   "outputs": [],
   "source": [
    "with open(model_file,\"rb\") as f:\n",
    "    model_data = pickle.load(f)"
   ]
  },
  {
   "cell_type": "code",
   "execution_count": 34,
   "metadata": {},
   "outputs": [
    {
     "data": {
      "text/plain": [
       "dict_keys(['c_index', 'q_index', 'mixed_energies', 'mixed_gradients', 'reference_energy', 'relative_error', 'pars_best', 'pars_final', 'sigma_best', 'seed', 'sampler_state', 'optimizer', 'optimizer_state', 'quantum_model', 'classic_model', 'angles_model'])"
      ]
     },
     "execution_count": 34,
     "metadata": {},
     "output_type": "execute_result"
    }
   ],
   "source": [
    "model_data.keys()"
   ]
  },
  {
   "cell_type": "code",
   "execution_count": 31,
   "metadata": {},
   "outputs": [
    {
     "data": {
      "text/plain": [
       "FrozenDict({\n",
       "    angles: {\n",
       "        params: {\n",
       "            Dense: {\n",
       "                bias: Array([ 0.6741, -0.3537,  0.5348, -0.6373, -0.5109, -0.0281,  0.9835, -0.4785,  0.2269, -0.2992,  0.5896,  1.0395, -0.2289,  0.1047, -0.3806,  0.9168,  0.4365, -0.4076, -1.003 ,  1.1048], dtype=float64),\n",
       "                kernel: Array([[-0.8194, -0.8804, -0.0905, -0.2375,  0.4889,  0.9277, -0.1962,  0.975 , -1.0195,  1.1178, -0.6507, -0.8347, -0.3416,  0.4028,  1.1731, -0.0639,  1.3285, -0.2094,  1.3769, -0.1502],\n",
       "                       [ 0.4653,  0.5987,  0.3296, -0.0829,  0.069 , -0.8186, -0.4015, -0.506 ,  0.3185,  1.1427,  0.2737, -0.1486, -0.1054, -0.2727, -0.262 , -0.4277,  0.2857,  0.5694,  0.4072,  0.202 ],\n",
       "                       [ 0.907 ,  0.6003, -0.3723, -0.5692,  0.3661, -0.1072,  0.9853,  0.0163, -0.0648, -0.1702,  0.9575,  0.248 ,  0.7744, -0.2922,  0.2894,  1.0408,  0.3323,  1.5168, -0.8626,  1.6712],\n",
       "                       [ 0.1081, -0.2005, -0.7067, -0.4388, -0.1941,  0.0968, -0.1623, -0.2006, -0.2231,  0.7525,  0.5754,  0.3849, -0.7719, -0.6934,  0.2898, -0.4339, -0.837 ,  1.0681, -0.4682,  1.6918],\n",
       "                       [ 0.0659, -0.7127, -0.9828,  0.7416,  0.5673,  0.1468,  0.6576, -0.3181,  0.2812, -0.8694, -0.0376,  0.1727,  0.4411,  1.3669,  0.4425, -0.0455, -0.565 ,  0.9343,  0.4951,  0.4008],\n",
       "                       [ 0.0796,  0.8393,  0.3427,  0.5508,  0.4822,  0.6841,  0.0852, -0.1775, -0.547 ,  0.4343, -0.8932, -0.5781,  0.627 , -0.7568,  0.4757, -0.0802, -0.6221, -1.4457, -1.2638,  0.8309],\n",
       "                       [ 0.3025,  0.8113,  1.0561,  0.0356, -0.3459,  0.5112,  0.4892, -0.7145, -0.562 ,  0.2665, -0.7621, -0.8614, -0.3266, -0.6556,  0.5569, -1.1034, -1.3043, -1.0424,  0.8508,  0.666 ],\n",
       "                       [-0.8434, -0.1384,  0.7663, -0.0848,  0.9285, -0.0077,  0.5279, -0.2316,  0.6339, -0.3902,  1.1283,  1.0654,  0.6859,  0.9271, -1.339 , -0.3621, -1.6172,  1.3487,  0.2946, -1.0019],\n",
       "                       [ 0.1895, -0.886 , -0.4064,  0.4249, -1.3653,  0.1219,  0.0422,  1.2509,  0.5638, -0.6643, -0.4826, -0.1733, -0.2859, -1.117 , -0.7223, -0.9533, -0.2415,  0.7135,  0.8755, -0.1195],\n",
       "                       [ 1.1076, -0.1448, -0.5067, -0.5472,  0.0854, -0.5737, -0.4024, -0.8061,  0.792 , -0.2028, -0.8928, -0.3188,  1.405 ,  0.255 , -0.0118,  1.3168,  0.346 ,  0.5989,  0.1859, -0.3526]], dtype=float64),\n",
       "            },\n",
       "            Dense angles: {\n",
       "                bias: Array([0.2769, 0.5154], dtype=float64),\n",
       "                kernel: Array([[ 0.4065, -1.1742],\n",
       "                       [ 0.8304, -0.6744],\n",
       "                       [-0.7329,  0.4773],\n",
       "                       [-0.672 , -0.1595],\n",
       "                       [ 0.9322, -0.1474],\n",
       "                       [-0.4575, -0.5744],\n",
       "                       [-0.8457,  0.3448],\n",
       "                       [-0.4915, -1.0438],\n",
       "                       [-0.0692, -0.8221],\n",
       "                       [-1.1154, -0.1019],\n",
       "                       [ 0.4524, -1.748 ],\n",
       "                       [-0.1127, -1.3061],\n",
       "                       [-0.322 ,  1.1021],\n",
       "                       [-0.7628, -0.5054],\n",
       "                       [-1.1312, -0.0914],\n",
       "                       [-0.0733, -1.2566],\n",
       "                       [-0.9598,  1.5238],\n",
       "                       [ 1.2865,  0.9079],\n",
       "                       [-0.5862,  2.0265],\n",
       "                       [ 1.4527, -0.1882]], dtype=float64),\n",
       "            },\n",
       "        },\n",
       "    },\n",
       "    params: {\n",
       "        Dense: {\n",
       "            bias: Array([ 0.6614,  0.6026,  0.0768, -0.089 ,  0.9552, -0.2326, -0.0964,  0.5938,  0.4675,  0.1667], dtype=float64),\n",
       "            kernel: Array([[ 0.1214, -0.0915, -1.496 ,  0.5659,  0.8303, -0.3982,  0.1326, -0.9726,  1.6709,  0.3452],\n",
       "                   [-0.3605,  1.0482, -0.0896, -1.0236,  0.1698,  1.5534, -1.9136, -0.2999, -0.922 ,  0.4494],\n",
       "                   [ 0.4789, -0.5213, -0.3903,  0.6627,  0.7567, -0.6737,  0.1564,  0.063 , -1.0085,  0.4496],\n",
       "                   [ 0.0245,  0.5492,  0.3655,  0.6605, -0.1296, -0.9387, -0.598 ,  0.5916, -0.0304, -1.325 ],\n",
       "                   [ 0.3751, -0.9854,  0.3627, -1.6269, -0.4223,  0.6335,  1.5353,  0.6484,  0.3931,  0.6528],\n",
       "                   [-1.1821,  0.1709, -0.4675, -0.4288, -0.8134,  0.1689, -0.0286, -0.3896,  0.5026, -0.3386],\n",
       "                   [ 1.4348, -1.548 , -0.0884,  1.3521, -0.9394,  1.6678, -1.3959,  0.1034,  0.4355, -0.3013],\n",
       "                   [-0.8532, -0.1901,  1.4557,  0.213 ,  1.5923,  0.5391, -0.011 ,  0.5233,  0.0492, -0.0186],\n",
       "                   [ 1.1146,  1.5357, -0.9902, -0.2652, -0.0766,  0.2011,  0.8495,  0.8074, -0.4797, -0.1642],\n",
       "                   [ 0.9455, -0.375 ,  0.8109, -1.9258,  0.2284, -1.6295, -1.0279, -1.0249, -0.0443, -0.1473]], dtype=float64),\n",
       "        },\n",
       "        visible_bias: Array([ 0.8733,  0.9204,  1.1373, -0.8398, -0.5605,  1.7349,  0.8485,  0.3811, -0.62  , -0.4963], dtype=float64),\n",
       "    },\n",
       "    quantum: Array([-0.2615], dtype=float64),\n",
       "})"
      ]
     },
     "execution_count": 31,
     "metadata": {},
     "output_type": "execute_result"
    }
   ],
   "source": [
    "model_data[\"pars_best\"]"
   ]
  },
  {
   "attachments": {},
   "cell_type": "markdown",
   "metadata": {},
   "source": [
    "## Final energy"
   ]
  },
  {
   "cell_type": "code",
   "execution_count": 32,
   "metadata": {},
   "outputs": [
    {
     "name": "stdout",
     "output_type": "stream",
     "text": [
      "-56.2080+0.0000j ± 0.0012 [σ²=0.0274]\n"
     ]
    }
   ],
   "source": [
    "print(model_data[\"mixed_energies\"][-1])"
   ]
  }
 ],
 "metadata": {
  "kernelspec": {
   "display_name": "q_embedding_new",
   "language": "python",
   "name": "python3"
  },
  "language_info": {
   "codemirror_mode": {
    "name": "ipython",
    "version": 3
   },
   "file_extension": ".py",
   "mimetype": "text/x-python",
   "name": "python",
   "nbconvert_exporter": "python",
   "pygments_lexer": "ipython3",
   "version": "3.8.13"
  },
  "orig_nbformat": 4
 },
 "nbformat": 4,
 "nbformat_minor": 2
}
