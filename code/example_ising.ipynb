{
 "cells": [
  {
   "cell_type": "code",
   "execution_count": 1,
   "id": "10eb9e18-e2d6-4a44-aafc-be23eef6d2da",
   "metadata": {},
   "outputs": [],
   "source": [
    "%load_ext autoreload\n",
    "%autoreload 2\n",
    "#import plum\n",
    "#plum.autoreload.activate()"
   ]
  },
  {
   "cell_type": "code",
   "execution_count": 2,
   "id": "7046294b-3e20-4bb5-9441-730a5cc6e871",
   "metadata": {},
   "outputs": [],
   "source": [
    "import numpy as np\n",
    "import matplotlib.pyplot as plt\n",
    "import time\n",
    "import json\n",
    "\n",
    "from functools import partial, reduce"
   ]
  },
  {
   "cell_type": "code",
   "execution_count": 3,
   "id": "d5a32065-d17d-43c0-8bc2-92792f2df5e1",
   "metadata": {},
   "outputs": [
    {
     "name": "stderr",
     "output_type": "stream",
     "text": [
      "/opt/anaconda3/envs/q_embedding_new/lib/python3.8/site-packages/flax/core/frozen_dict.py:169: FutureWarning: jax.tree_util.register_keypaths is deprecated, and will be removed in a future release. Please use `register_pytree_with_keys()` instead.\n",
      "  jax.tree_util.register_keypaths(\n"
     ]
    }
   ],
   "source": [
    "# Added to silence some warnings.\n",
    "from jax.config import config\n",
    "config.update(\"jax_enable_x64\", True)\n",
    "\n",
    "import jax\n",
    "import jax.numpy as jnp\n",
    "\n",
    "import flax\n",
    "import optax"
   ]
  },
  {
   "cell_type": "code",
   "execution_count": 4,
   "id": "530b426a-8563-42ae-8783-d9e82fbcf813",
   "metadata": {},
   "outputs": [],
   "source": [
    "import pennylane as qml\n",
    "import netket as nk\n",
    "from netket.operator.spin import sigmax,sigmaz"
   ]
  },
  {
   "cell_type": "code",
   "execution_count": 5,
   "id": "56c2f8ec-a006-42b8-9f39-98c626190216",
   "metadata": {},
   "outputs": [],
   "source": [
    "np.set_printoptions(precision=4)\n",
    "np.set_printoptions(linewidth=250)"
   ]
  },
  {
   "cell_type": "code",
   "execution_count": 6,
   "id": "457f896b-8835-46bb-a970-c3d939cf908d",
   "metadata": {},
   "outputs": [],
   "source": [
    "from utils             import *\n",
    "from hamiltonians      import *\n",
    "from quantum_circuits  import *\n",
    "from classic_models    import *\n",
    "from truncated_spin    import Spin"
   ]
  },
  {
   "attachments": {},
   "cell_type": "markdown",
   "id": "0f3b1a72-b0e1-468c-a196-763af5b8d392",
   "metadata": {},
   "source": [
    "## Ising - system and Hamiltonian"
   ]
  },
  {
   "cell_type": "code",
   "execution_count": 21,
   "id": "be866880",
   "metadata": {},
   "outputs": [],
   "source": [
    "phys_qubits       = 3\n",
    "n_classical_spins = 6\n",
    "\n",
    "ancilla_qubits    = 1\n",
    "tot_qubits        = phys_qubits + ancilla_qubits\n",
    "\n",
    "q_index           = [i for i in range(n_classical_spins//2,n_classical_spins//2+phys_qubits)]\n",
    "c_index           = [i for i in range(n_classical_spins//2)] + [i for i in range(n_classical_spins//2+phys_qubits, n_classical_spins+phys_qubits)]\n",
    "\n",
    "device_phys         = qml.device(\"default.qubit.jax\", wires=list(range(phys_qubits)))\n",
    "device_with_ancilla = qml.device(\"default.qubit.jax\", wires=list(range(phys_qubits))+[\"a\"])\n",
    "\n",
    "# Define the Hilbert space\n",
    "hi = Spin(N=n_classical_spins//2, maximum_up=n_classical_spins//2,minimum_up=0)*Spin(N=n_classical_spins//2, maximum_up=n_classical_spins//2,minimum_up=0)"
   ]
  },
  {
   "cell_type": "code",
   "execution_count": 22,
   "id": "9054012a-dc6a-4d23-b0fc-41dbee65e597",
   "metadata": {},
   "outputs": [],
   "source": [
    "## Define the Hamiltonian\n",
    "\n",
    "# Ising\n",
    "hc = -1\n",
    "hq = -1\n",
    "\n",
    "j_c      = 0.25\n",
    "j_q      = 1.0\n",
    "j_int    = 0.5\n",
    "\n",
    "h_list   = (n_classical_spins//2)*[hc] + (phys_qubits)*[hq] + (n_classical_spins//2)*[hc]\n",
    "\n",
    "j_list   = (n_classical_spins//2 -1)*[j_c] + [j_int] + (phys_qubits - 1)*[j_q] + [j_int] +  (n_classical_spins//2 -1)*[j_c]\n",
    "#h_mixed  = ising_hamiltonian_mixed(tot_spins,j_list,h_list,q_index)\n",
    "hami_op_list, hami_coeff_list = generate_ising_hami_list(phys_qubits+n_classical_spins,j_list,h_list)"
   ]
  },
  {
   "cell_type": "code",
   "execution_count": 23,
   "id": "9b68e338-cb7f-4b3e-8277-142bfdfa6536",
   "metadata": {},
   "outputs": [
    {
     "name": "stdout",
     "output_type": "stream",
     "text": [
      "Number of pure  quantum op: 5\n",
      "Number of pure  classic op: 10\n",
      "Number of       mixed   op: 2\n",
      "Number of quantum    group: 2\n"
     ]
    }
   ],
   "source": [
    "h_mixed = mixed_hami_from_list(hami_op_list,hami_coeff_list,hi,q_index,c_index)"
   ]
  },
  {
   "attachments": {},
   "cell_type": "markdown",
   "id": "dbeef506-2066-4663-95dd-1d09dd51f0c6",
   "metadata": {},
   "source": [
    "## Exact energy of the GS "
   ]
  },
  {
   "cell_type": "code",
   "execution_count": 24,
   "id": "2b4e5a6f-8b74-40fa-87bf-589303d117b5",
   "metadata": {},
   "outputs": [],
   "source": [
    "hi_full    = nk.hilbert.Spin(s=1/2,N=phys_qubits+n_classical_spins) "
   ]
  },
  {
   "cell_type": "code",
   "execution_count": 25,
   "id": "da1fb2e8-2019-4c30-841a-324354e61d6f",
   "metadata": {},
   "outputs": [],
   "source": [
    "## Total Hamiltonian\n",
    "htot_nk = netket_hami_from_list(hami_op_list,hami_coeff_list,hi_full)"
   ]
  },
  {
   "cell_type": "code",
   "execution_count": 26,
   "id": "371e9472-ba63-4232-a976-6ad88d5ff5cd",
   "metadata": {},
   "outputs": [],
   "source": [
    "## Ground state energy\n",
    "E_gs, psi_gs = nk.exact.lanczos_ed(htot_nk, compute_eigenvectors=True)"
   ]
  },
  {
   "cell_type": "code",
   "execution_count": 27,
   "id": "1db05cc6-b3d0-485d-b390-c8e405dda403",
   "metadata": {},
   "outputs": [
    {
     "data": {
      "text/plain": [
       "-9.697821000506377"
      ]
     },
     "execution_count": 27,
     "metadata": {},
     "output_type": "execute_result"
    }
   ],
   "source": [
    "E_gs[0]"
   ]
  },
  {
   "attachments": {},
   "cell_type": "markdown",
   "id": "e248c26c-ce92-430b-bb69-939b0bed02ad",
   "metadata": {},
   "source": [
    "## Circuit"
   ]
  },
  {
   "cell_type": "code",
   "execution_count": 28,
   "id": "d9c03e67-f230-4f6d-a70d-ce998a66e4ec",
   "metadata": {},
   "outputs": [],
   "source": [
    "## Total circuit\n",
    "depth   =  4\n",
    "my_circ = (circ_pass, circ_classic_RY, partial(circ_RY ,depth))"
   ]
  },
  {
   "cell_type": "code",
   "execution_count": 29,
   "id": "d1375376-686e-4012-b5de-4e5c559db954",
   "metadata": {},
   "outputs": [],
   "source": [
    "## Print the circuit\n",
    "draw_device = qml.device(\"default.qubit\", list(range(phys_qubits))+[\"a\"])"
   ]
  },
  {
   "cell_type": "code",
   "execution_count": 30,
   "id": "bbfa711d-7a17-45e7-a3bf-8fc04c6bd6a2",
   "metadata": {},
   "outputs": [],
   "source": [
    "@qml.qnode(draw_device)\n",
    "def draw_circuit(params,θ_σ,θ_η):\n",
    "    \n",
    "    my_circ[1](draw_device, params, θ_σ, θ_η)\n",
    "    my_circ[2](draw_device,  params)\n",
    "    \n",
    "    return qml.state()"
   ]
  },
  {
   "cell_type": "code",
   "execution_count": 31,
   "id": "92d497db-ec1e-488c-ab74-e1bee0f8d91c",
   "metadata": {},
   "outputs": [
    {
     "name": "stdout",
     "output_type": "stream",
     "text": [
      "0: ──RY(5.00)──||──RY(0.00)─╭●──RY(3.00)───────────╭●──RY(6.00)───────────╭●──RY(9.00)────────────╭●\n",
      "1: ────────────||──RY(1.00)─╰X─╭●─────────RY(4.00)─╰X─╭●─────────RY(7.00)─╰X─╭●─────────RY(10.00)─╰X\n",
      "2: ──RY(6.00)──||──RY(2.00)────╰X─────────RY(5.00)────╰X─────────RY(8.00)────╰X─────────RY(11.00)───\n",
      "\n",
      "───RY(12.00)────────────┤  State\n",
      "──╭●──────────RY(13.00)─┤  State\n",
      "──╰X──────────RY(14.00)─┤  State\n"
     ]
    }
   ],
   "source": [
    "drawer = qml.draw(draw_circuit)\n",
    "print(drawer(jnp.asarray(list(range(15))),jnp.asarray(list(range(5,7))),None))"
   ]
  },
  {
   "attachments": {},
   "cell_type": "markdown",
   "id": "f9d9673e-0918-4748-bc83-28f0dc69a6ae",
   "metadata": {
    "tags": []
   },
   "source": [
    "## Training "
   ]
  },
  {
   "attachments": {},
   "cell_type": "markdown",
   "id": "dc89429e",
   "metadata": {},
   "source": [
    "### Define the classic models"
   ]
  },
  {
   "cell_type": "code",
   "execution_count": 32,
   "id": "ac9bd4e3",
   "metadata": {},
   "outputs": [],
   "source": [
    "time_seed = int(time.time())\n",
    "seed      = jax.random.PRNGKey(time_seed)"
   ]
  },
  {
   "cell_type": "code",
   "execution_count": 33,
   "id": "c949647b-489d-4694-9332-2f7a95cfdfd0",
   "metadata": {},
   "outputs": [],
   "source": [
    "########## Initialise RBM Spin Machine\n",
    "ma       = nk.models.RBM(alpha=1, param_dtype=float)\n",
    "ma_lin    = RBM_Linear(alpha=1, param_dtype=float)\n",
    "# Random initialization\n",
    "pars_c     = ma.init(jax.random.PRNGKey(time_seed), hi.random_state(seed, 1))\n",
    "pars_c_lin = ma_lin.init(jax.random.PRNGKey(time_seed), hi.random_state(seed, 1))\n",
    "\n",
    "## Initialise the sampler (fullsummation does not require a sampler)\n",
    "#sa       = nk.sampler.MetropolisLocal(hi, n_chains=10)\n",
    "sa       = nk.sampler.ExactSampler(hi)\n",
    "sa_state = sa.init_state(ma, pars_c, seed)"
   ]
  },
  {
   "cell_type": "code",
   "execution_count": 34,
   "id": "bddaa4a8",
   "metadata": {},
   "outputs": [],
   "source": [
    "########## Sample to angle machine\n",
    "angles_a = 2  # Number of angles controlled in the circuit\n",
    "alpha_a  = 2  # Numbers of nodes in the hidden layer of the NN\n",
    "sta      = Sample_to_angle(alpha=alpha_a, angles=angles_a, param_dtype=float)\n",
    "pars_a   = sta.init(jax.random.PRNGKey(time_seed), jnp.array([-1 for  i in range(n_classical_spins)]))"
   ]
  },
  {
   "cell_type": "code",
   "execution_count": 35,
   "id": "3775bd18",
   "metadata": {},
   "outputs": [],
   "source": [
    "########## Quantum circuit\n",
    "pars_q = np.random.rand(phys_qubits*(depth+1))\n",
    "\n",
    "# Put quantum and classical params together\n",
    "pars_all = flax.core.unfreeze(pars_c)\n",
    "pars_all['quantum'] = pars_q\n",
    "pars_all['angles']  = pars_a\n",
    "pars_all = flax.core.freeze(pars_all)"
   ]
  },
  {
   "attachments": {},
   "cell_type": "markdown",
   "id": "05f3bfce",
   "metadata": {},
   "source": [
    "### Optimizer"
   ]
  },
  {
   "cell_type": "code",
   "execution_count": 36,
   "id": "8250c8bb",
   "metadata": {},
   "outputs": [],
   "source": [
    "########### Declare the optimizer\n",
    "# Mixed with SR\n",
    "# using SGD if we choose to use SR in the classical parameters\n",
    "sr       = True\n",
    "unbiased = False # True if we want to use the unbiased estimator    \n",
    "\n",
    "\n",
    "if sr:\n",
    "    opt_classical = optax.sgd(0.01)\n",
    "else:\n",
    "    opt_classical = optax.adam(learning_rate=0.01) \n",
    "\n",
    "opt_quantum = optax.adam(learning_rate=0.01)\n",
    "opt_angles  = optax.adam(learning_rate=0.01) \n",
    "optimizer   = optax.multi_transform({'o1': opt_classical, 'o2': opt_quantum,'o3': opt_angles}, flax.core.freeze({\"params\":\"o1\", \"quantum\":\"o2\", \"angles\":\"o3\"}))\n",
    "\n",
    "opt_state = optimizer.init(pars_all)"
   ]
  },
  {
   "attachments": {},
   "cell_type": "markdown",
   "id": "a4f98355-120b-4224-a0d7-a968ba4ea1ed",
   "metadata": {},
   "source": [
    "## Optimization loop"
   ]
  },
  {
   "cell_type": "code",
   "execution_count": 37,
   "id": "45feacb9-8371-4cc8-8ffc-57f8ef9fafea",
   "metadata": {},
   "outputs": [],
   "source": [
    "## Loop info\n",
    "n_steps    = 400\n",
    "n_samples  = 8000"
   ]
  },
  {
   "cell_type": "code",
   "execution_count": 38,
   "id": "275aafb2-9d4f-4a97-9d3f-51766f1d9156",
   "metadata": {},
   "outputs": [],
   "source": [
    "## Saving quantities \n",
    "\n",
    "## Total energies and errors\n",
    "e_vec    = []\n",
    "## Gradient \n",
    "grad_vec = []"
   ]
  },
  {
   "cell_type": "code",
   "execution_count": 40,
   "id": "c18b8d7c-6f46-4acb-af12-a68965ff5100",
   "metadata": {},
   "outputs": [
    {
     "name": "stdout",
     "output_type": "stream",
     "text": [
      "Step 0, energy: -8.62256884 +- 0.00607692\n",
      "--------------------------------------------------------------\n",
      "Step 50, energy: -9.57908707 +- 0.00104343\n",
      "--------------------------------------------------------------\n",
      "Step 100, energy: -9.59787706 +- 0.00038955\n",
      "--------------------------------------------------------------\n",
      "Step 150, energy: -9.61193185 +- 0.00018728\n",
      "--------------------------------------------------------------\n",
      "Step 200, energy: -9.62778540 +- 0.00034421\n",
      "--------------------------------------------------------------\n",
      "Step 250, energy: -9.63683009 +- 0.00024604\n",
      "--------------------------------------------------------------\n",
      "Step 300, energy: -9.63983718 +- 0.00037936\n",
      "--------------------------------------------------------------\n",
      "Step 350, energy: -9.64198347 +- 0.00026352\n",
      "--------------------------------------------------------------\n",
      "Final energy: -9.64466-0.00000j ± 0.00029 [σ²=0.00065]\n"
     ]
    }
   ],
   "source": [
    "# Save the best result\n",
    "\n",
    "e_best     = 10\n",
    "pars_best  = pars_all\n",
    "sigma_best = 0\n",
    "save_step  = 5\n",
    "\n",
    "for step_c in range(n_steps):\n",
    "    pars_ac, pars_q = pars_all.pop(\"quantum\")\n",
    "    pars_c, pars_a  = pars_ac.pop(\"angles\")\n",
    "    \n",
    "    # Sample from the classical distribution\n",
    "    \n",
    "    sa_state        = sa.reset( ma, pars_c, sa_state)\n",
    "    sigma, sa_state = sa.sample(ma, pars_c, state=sa_state, chain_length=n_samples)\n",
    "    \n",
    "    # Evaluate the energy both on classical and quantum computer\n",
    "    energy, grad_e = e_tot_and_grad(ma, ma_lin, device_with_ancilla, my_circ, pars_all, sigma, sta, h_mixed,unbiased=unbiased)\n",
    "\n",
    "    ## =================== SR for the classical gradient ===================\n",
    "    if sr:\n",
    "\n",
    "        grad_e_real = jax.tree_map(lambda x : x.real, grad_e)\n",
    "        grad_e      = compute_SR(ma,sigma,grad_e_real,pars_c,diag_shift=0.001)\n",
    "    \n",
    "    #=======================================================================\n",
    "    \n",
    "        \n",
    "    ## Print energy    \n",
    "    if step_c % 50 == 0:\n",
    "        \n",
    "        print(f\"Step {step_c}, energy: {energy.mean.real:.8f} +- {energy.error_of_mean:.8f}\")\n",
    "        print(\"--------------------------------------------------------------\")\n",
    "        \n",
    "    e_vec.append(energy)\n",
    "    grad_vec.append(grad_e)\n",
    "    \n",
    "    # Save the best results\n",
    "    if energy.mean < e_best:\n",
    "        e_best     = energy.mean\n",
    "        pars_best  = pars_all\n",
    "        sigma_best = sigma\n",
    "    \n",
    "   \n",
    "    # With optax\n",
    "    pars_all, opt_state = optimizer_step(optimizer,opt_state, grad_e, pars_all)\n",
    "    \n",
    "print(f\"Final energy: {energy}\")"
   ]
  },
  {
   "cell_type": "code",
   "execution_count": 42,
   "id": "9bc84cb3-f48c-43d5-9907-68ef487b2c12",
   "metadata": {},
   "outputs": [
    {
     "data": {
      "text/plain": [
       "-9.64466-0.00000j ± 0.00029 [σ²=0.00065]"
      ]
     },
     "execution_count": 42,
     "metadata": {},
     "output_type": "execute_result"
    }
   ],
   "source": [
    "final_variational = e_tot(ma, device_with_ancilla, my_circ, pars_best, sigma_best.reshape(-1, sigma_best.shape[-1]), sta, h_mixed)\n",
    "final_variational"
   ]
  },
  {
   "attachments": {},
   "cell_type": "markdown",
   "id": "e77f0a0c-8156-49f7-a456-a03d79428509",
   "metadata": {},
   "source": [
    "## Plot data"
   ]
  },
  {
   "attachments": {},
   "cell_type": "markdown",
   "id": "4bc1585f-4ce5-43d1-9aa8-6798a74f6cbd",
   "metadata": {},
   "source": [
    "#### Plot total energy"
   ]
  },
  {
   "cell_type": "code",
   "execution_count": 43,
   "id": "5ac5f37d-34e9-44c8-8969-5ca236e4289f",
   "metadata": {},
   "outputs": [
    {
     "data": {
      "image/png": "[encoded data removed]",
      "text/plain": [
       "<Figure size 600x500 with 1 Axes>"
      ]
     },
     "metadata": {},
     "output_type": "display_data"
    }
   ],
   "source": [
    "fig, ax = plt.subplots(1,figsize=[6.0,5.0],sharex=True)\n",
    "e_tot_ref = E_gs\n",
    "\n",
    "\n",
    "mean_e = np.asarray([np.real(energy.mean) for energy in e_vec])\n",
    "err_e  = np.asarray([np.real(energy.error_of_mean) for energy in e_vec])\n",
    "var_e  = np.asarray([np.real(energy.variance) for energy in e_vec])\n",
    "\n",
    "n_opt  = list(range(len(mean_e)))\n",
    "\n",
    "\n",
    "\n",
    "## Plot energy with error\n",
    "ax.errorbar(n_opt,mean_e-e_tot_ref,label=\"E variational\",color=\"C0\")\n",
    "\n",
    "ax.set_xlabel(\"Step\")\n",
    "ax.set_ylabel(r\"$E_{VQE}-E_{GS}$\")\n",
    "ax.legend()\n",
    "ax.grid()\n",
    "ax.set_yscale(\"log\")\n",
    "\n",
    "fig.subplots_adjust(hspace=0.04)\n",
    "plt.show()"
   ]
  }
 ],
 "metadata": {
  "kernelspec": {
   "display_name": "q_embedding_new",
   "language": "python",
   "name": "python3"
  },
  "language_info": {
   "codemirror_mode": {
    "name": "ipython",
    "version": 3
   },
   "file_extension": ".py",
   "mimetype": "text/x-python",
   "name": "python",
   "nbconvert_exporter": "python",
   "pygments_lexer": "ipython3",
   "version": "3.8.13"
  },
  "vscode": {
   "interpreter": {
    "hash": "45553f8e4cefe87835cbae6f54a3b5ca1b4f1d6f4838dda3049e363907c910f1"
   }
  }
 },
 "nbformat": 4,
 "nbformat_minor": 5
}
