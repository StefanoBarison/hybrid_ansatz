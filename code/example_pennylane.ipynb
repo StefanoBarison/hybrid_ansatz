{
 "cells": [
  {
   "cell_type": "code",
   "execution_count": 2,
   "metadata": {},
   "outputs": [],
   "source": [
    "%load_ext autoreload\n",
    "%autoreload 2\n",
    "#import plum\n",
    "#plum.autoreload.activate()"
   ]
  },
  {
   "cell_type": "code",
   "execution_count": 3,
   "metadata": {},
   "outputs": [],
   "source": [
    "import numpy as np\n",
    "import matplotlib.pyplot as plt\n",
    "import time\n",
    "import json\n",
    "\n",
    "from functools import partial, reduce"
   ]
  },
  {
   "cell_type": "code",
   "execution_count": 40,
   "metadata": {},
   "outputs": [],
   "source": [
    "from cx import CX"
   ]
  },
  {
   "cell_type": "code",
   "execution_count": 4,
   "metadata": {},
   "outputs": [
    {
     "name": "stderr",
     "output_type": "stream",
     "text": [
      "/opt/anaconda3/envs/q_embedding_new/lib/python3.8/site-packages/flax/core/frozen_dict.py:169: FutureWarning: jax.tree_util.register_keypaths is deprecated, and will be removed in a future release. Please use `register_pytree_with_keys()` instead.\n",
      "  jax.tree_util.register_keypaths(\n"
     ]
    }
   ],
   "source": [
    "# Added to silence some warnings.\n",
    "from jax.config import config\n",
    "config.update(\"jax_enable_x64\", True)\n",
    "\n",
    "import jax\n",
    "import jax.numpy as jnp\n",
    "\n",
    "import flax\n",
    "import optax"
   ]
  },
  {
   "cell_type": "code",
   "execution_count": 5,
   "metadata": {},
   "outputs": [],
   "source": [
    "import pennylane as qml\n",
    "import netket as nk\n",
    "from netket.operator.spin import sigmax,sigmaz"
   ]
  },
  {
   "cell_type": "code",
   "execution_count": 6,
   "metadata": {},
   "outputs": [],
   "source": [
    "np.set_printoptions(precision=4)\n",
    "np.set_printoptions(linewidth=250)"
   ]
  },
  {
   "cell_type": "code",
   "execution_count": 8,
   "metadata": {},
   "outputs": [],
   "source": [
    "from utils             import *\n",
    "from hamiltonians      import *\n",
    "from quantum_circuits  import *\n",
    "from classic_models    import *"
   ]
  },
  {
   "cell_type": "markdown",
   "metadata": {},
   "source": [
    "## Ising - system and Hamiltonian"
   ]
  },
  {
   "cell_type": "code",
   "execution_count": 13,
   "metadata": {},
   "outputs": [],
   "source": [
    "phys_qubits       = 3\n",
    "n_classical_spins = 4\n",
    "\n",
    "ancilla_qubits    = 1\n",
    "tot_qubits        = phys_qubits + ancilla_qubits\n",
    "\n",
    "q_index           = [i for i in range(n_classical_spins//2,n_classical_spins//2+phys_qubits)]\n",
    "c_index           = [i for i in range(n_classical_spins//2)] + [i for i in range(n_classical_spins//2+phys_qubits, n_classical_spins+phys_qubits)]\n",
    "\n",
    "device_phys         = qml.device(\"default.qubit.jax\", wires=list(range(phys_qubits)))\n",
    "device_with_ancilla = qml.device(\"default.qubit.jax\", wires=list(range(phys_qubits))+[\"a\"])\n",
    "\n",
    "# Define the Hilbert space\n",
    "hi = nk.hilbert.Spin(s=1 / 2, N=n_classical_spins)"
   ]
  },
  {
   "cell_type": "code",
   "execution_count": 14,
   "metadata": {},
   "outputs": [],
   "source": [
    "## Define the Hamiltonian\n",
    "\n",
    "# Ising\n",
    "hc = -1\n",
    "hq = -1\n",
    "\n",
    "j_c      = 0.25\n",
    "j_q      = 1.0\n",
    "j_int    = 0.5\n",
    "\n",
    "h_list   = (n_classical_spins//2)*[hc] + (phys_qubits)*[hq] + (n_classical_spins//2)*[hc]\n",
    "\n",
    "j_list   = (n_classical_spins//2 -1)*[j_c] + [j_int] + (phys_qubits - 1)*[j_q] + [j_int] +  (n_classical_spins//2 -1)*[j_c]\n",
    "#h_mixed  = ising_hamiltonian_mixed(tot_spins,j_list,h_list,q_index)\n",
    "hami_op_list, hami_coeff_list = generate_ising_hami_list(phys_qubits+n_classical_spins,j_list,h_list)"
   ]
  },
  {
   "cell_type": "code",
   "execution_count": 15,
   "metadata": {},
   "outputs": [
    {
     "name": "stdout",
     "output_type": "stream",
     "text": [
      "Number of pure  quantum op: 5\n",
      "Number of pure  classic op: 6\n",
      "Number of       mixed   op: 2\n",
      "Number of quantum    group: 2\n"
     ]
    }
   ],
   "source": [
    "h_mixed = mixed_hami_from_list(hami_op_list,hami_coeff_list,hi,q_index,c_index)"
   ]
  },
  {
   "cell_type": "markdown",
   "metadata": {},
   "source": [
    "## Exact energy of the GS "
   ]
  },
  {
   "cell_type": "code",
   "execution_count": 16,
   "metadata": {},
   "outputs": [],
   "source": [
    "hi_full = nk.hilbert.Spin(s=1 / 2, N=phys_qubits+n_classical_spins)"
   ]
  },
  {
   "cell_type": "code",
   "execution_count": 17,
   "metadata": {},
   "outputs": [],
   "source": [
    "## Total Hamiltonian\n",
    "htot_nk = netket_hami_from_list(hami_op_list,hami_coeff_list,hi_full)"
   ]
  },
  {
   "cell_type": "code",
   "execution_count": 18,
   "metadata": {},
   "outputs": [],
   "source": [
    "## Ground state energy\n",
    "E_gs, psi_gs = nk.exact.lanczos_ed(htot_nk, compute_eigenvectors=True)"
   ]
  },
  {
   "cell_type": "code",
   "execution_count": 19,
   "metadata": {},
   "outputs": [
    {
     "data": {
      "text/plain": [
       "-7.666408476569804"
      ]
     },
     "execution_count": 19,
     "metadata": {},
     "output_type": "execute_result"
    }
   ],
   "source": [
    "E_gs[0]"
   ]
  },
  {
   "cell_type": "markdown",
   "metadata": {},
   "source": [
    "## Circuit"
   ]
  },
  {
   "cell_type": "code",
   "execution_count": 20,
   "metadata": {},
   "outputs": [],
   "source": [
    "## Total circuit\n",
    "depth   =  2\n",
    "my_circ = (circ_pass, circ_classic_RY, partial(circ_RY ,depth))"
   ]
  },
  {
   "cell_type": "code",
   "execution_count": 41,
   "metadata": {},
   "outputs": [],
   "source": [
    "## Print the circuit\n",
    "draw_device = qml.device(\"default.qubit\", list(range(phys_qubits))+[\"a\"])"
   ]
  },
  {
   "cell_type": "code",
   "execution_count": 49,
   "metadata": {},
   "outputs": [],
   "source": [
    "@qml.qnode(draw_device)\n",
    "def draw_circuit(params,θ_σ,θ_η):\n",
    "    \n",
    "    my_circ[1](draw_device, params, θ_σ, θ_η)\n",
    "    my_circ[2](draw_device,  params)\n",
    "    \n",
    "    return qml.state()"
   ]
  },
  {
   "cell_type": "code",
   "execution_count": 50,
   "metadata": {},
   "outputs": [
    {
     "data": {
      "text/plain": [
       "Array([0.+0.j, 0.+0.j, 0.+0.j, 0.+0.j, 0.+0.j, 0.+0.j, 0.+0.j, 0.+0.j, 1.+0.j, 0.+0.j, 0.+0.j, 0.+0.j, 0.+0.j, 0.+0.j, 0.+0.j, 0.+0.j], dtype=complex128)"
      ]
     },
     "execution_count": 50,
     "metadata": {},
     "output_type": "execute_result"
    }
   ],
   "source": [
    "draw_circuit(jnp.asarray(list(range(15))),jnp.asarray(list(range(5,7))),None)"
   ]
  },
  {
   "cell_type": "code",
   "execution_count": 47,
   "metadata": {},
   "outputs": [
    {
     "name": "stdout",
     "output_type": "stream",
     "text": [
      "0: ──CX(1.00)─┤  State\n"
     ]
    }
   ],
   "source": [
    "drawer = qml.draw(draw_circuit)\n",
    "print(drawer(jnp.asarray(list(range(15))),jnp.asarray(list(range(5,7))),None))"
   ]
  },
  {
   "cell_type": "markdown",
   "metadata": {},
   "source": [
    "## Training "
   ]
  },
  {
   "cell_type": "markdown",
   "metadata": {},
   "source": [
    "### Define the classic models"
   ]
  },
  {
   "cell_type": "code",
   "execution_count": 24,
   "metadata": {},
   "outputs": [],
   "source": [
    "time_seed = int(time.time())\n",
    "seed      = jax.random.PRNGKey(time_seed)"
   ]
  },
  {
   "cell_type": "code",
   "execution_count": 25,
   "metadata": {},
   "outputs": [],
   "source": [
    "########## Initialise RBM Spin Machine\n",
    "ma       = nk.models.RBM(alpha=1, param_dtype=float)\n",
    "# Random initialization\n",
    "pars_c     = ma.init(seed, hi.random_state(seed, 1))\n",
    "\n",
    "## Initialise the sampler \n",
    "sa       = nk.sampler.ExactSampler(hi)\n",
    "sa_state = sa.init_state(ma, pars_c, seed)"
   ]
  },
  {
   "cell_type": "code",
   "execution_count": 26,
   "metadata": {},
   "outputs": [],
   "source": [
    "########## Sample to angle machine\n",
    "angles_a = 2  # Number of angles controlled in the circuit\n",
    "alpha_a  = 2  # Numbers of nodes in the hidden layer of the NN\n",
    "sta      = Sample_to_angle(alpha=alpha_a, angles=angles_a, param_dtype=float)\n",
    "pars_a   = sta.init(seed, jnp.array([-1 for  i in range(n_classical_spins)]))"
   ]
  },
  {
   "cell_type": "code",
   "execution_count": 27,
   "metadata": {},
   "outputs": [],
   "source": [
    "########## Quantum circuit\n",
    "pars_q = np.random.rand(phys_qubits*(depth+1))\n",
    "\n",
    "# Put quantum and classical params together\n",
    "pars_all = flax.core.unfreeze(pars_c)\n",
    "pars_all['quantum'] = pars_q\n",
    "pars_all['angles']  = pars_a\n",
    "pars_all = flax.core.freeze(pars_all)"
   ]
  },
  {
   "cell_type": "markdown",
   "metadata": {},
   "source": [
    "## Energy and gradient"
   ]
  },
  {
   "cell_type": "code",
   "execution_count": 28,
   "metadata": {},
   "outputs": [],
   "source": [
    "def e_tot_and_grad_demo(ma, dev, circ, pars, σ, sample_to_angle, h_mixed):\n",
    "    \n",
    "    '''\n",
    "    This function will return the energy  and its gradient\n",
    "\n",
    "    Args:\n",
    "        ma:              NetKet classic model\n",
    "        dev:             pennylane device\n",
    "        circ:            pennylane circuit\n",
    "        pars:            parameters of the model\n",
    "        σ:               classic samples\n",
    "        sample_to_angle: function to convert classic samples to angles in the quantum circuit\n",
    "        h_mixed:         Hamiltonian in the mixed form\n",
    "    '''\n",
    "    \n",
    "    # with a similar structure to those of parameters, so having grad['quantum']\n",
    "    \n",
    "    assert σ.ndim == 3\n",
    "    n_chains = σ.shape[1]\n",
    "    σ_batch = σ.reshape(-1, σ.shape[-1])\n",
    "    \n",
    "    # intialise quantities\n",
    "    e_locs = 0\n",
    "    \n",
    "    pars_ac, pars_q = pars.pop('quantum')\n",
    "    pars_c, pars_a  = pars_ac.pop('angles')\n",
    "    \n",
    "    ## Gradients\n",
    "    grad_q  = jax.tree_map(jnp.zeros_like, pars_q)\n",
    "    grad_a  = jax.tree_map(jnp.zeros_like, pars_a)\n",
    "    grad_c  = jax.tree_map(jnp.zeros_like, pars_c)\n",
    "    \n",
    "    \n",
    "    for (hq,hc) in h_mixed:\n",
    "        σp, mels    = hc.get_conn_padded(σ_batch)\n",
    "\n",
    "        e_loc, g_a, g_q, g_c = e_loc_and_grad_batched(ma, dev, circ, pars, σ_batch, σp, mels, sample_to_angle, hq)\n",
    "        \n",
    "\n",
    "        \n",
    "        # Update \n",
    "        e_locs = e_locs + e_loc\n",
    "        grad_q = jax.tree_map(lambda x,y: x+jnp.mean(y, axis=0), grad_q, g_q)\n",
    "        grad_a = jax.tree_map(lambda x,y: x+jnp.mean(y, axis=0), grad_a, g_a)\n",
    "        grad_c = jax.tree_map(lambda x,y: x+jnp.mean(y, axis=0), grad_c, g_c)\n",
    "        \n",
    "        \n",
    "\n",
    "\n",
    "    # Total gradient of the classical params\n",
    "    e_expect    = nk.stats.statistics(e_locs.reshape(σ.shape[:2]).T)\n",
    "    e_mean      = e_expect.mean.real\n",
    "    Ok          = compute_Ok(ma, pars_c, σ_batch)\n",
    "\n",
    "    grad     = jax.tree_map(lambda x,y: x-e_mean*y, grad_c, Ok)\n",
    "    \n",
    "    # Put the classical and quantum gradient together\n",
    "    grad_all = flax.core.unfreeze(grad)\n",
    "    grad_all['quantum'] = grad_q\n",
    "    grad_all['angles']  = grad_a\n",
    "    grad_all = flax.core.freeze(grad_all)\n",
    "        \n",
    "    return e_expect, grad_all"
   ]
  },
  {
   "cell_type": "markdown",
   "metadata": {},
   "source": [
    "## Optimizer"
   ]
  },
  {
   "cell_type": "code",
   "execution_count": 29,
   "metadata": {},
   "outputs": [],
   "source": [
    "########### Declare the optimizer\n",
    "optimizer = optax.adam(learning_rate=0.01)\n",
    "opt_state = optimizer.init(pars_all)"
   ]
  },
  {
   "cell_type": "markdown",
   "metadata": {},
   "source": [
    "## Optimization loop"
   ]
  },
  {
   "cell_type": "code",
   "execution_count": 35,
   "metadata": {},
   "outputs": [],
   "source": [
    "## Loop info\n",
    "n_steps    = 200\n",
    "n_samples  = 8000"
   ]
  },
  {
   "cell_type": "code",
   "execution_count": 32,
   "metadata": {},
   "outputs": [],
   "source": [
    "## Saving quantities \n",
    "## Total energies and errors\n",
    "e_vec    = []"
   ]
  },
  {
   "cell_type": "code",
   "execution_count": 38,
   "metadata": {},
   "outputs": [
    {
     "name": "stdout",
     "output_type": "stream",
     "text": [
      "Step 0, energy: -7.58827211 +- 0.00054208\n",
      "--------------------------------------------------------------\n",
      "Step 10, energy: -7.58743654 +- 0.00098426\n",
      "--------------------------------------------------------------\n",
      "Step 20, energy: -7.58752540 +- 0.00088618\n",
      "--------------------------------------------------------------\n",
      "Step 30, energy: -7.58789385 +- 0.00081264\n",
      "--------------------------------------------------------------\n",
      "Step 40, energy: -7.58876039 +- 0.00076232\n",
      "--------------------------------------------------------------\n",
      "Step 50, energy: -7.58741037 +- 0.00080540\n",
      "--------------------------------------------------------------\n",
      "Step 60, energy: -7.58956953 +- 0.00057421\n",
      "--------------------------------------------------------------\n",
      "Step 70, energy: -7.58957241 +- 0.00060790\n",
      "--------------------------------------------------------------\n",
      "Step 80, energy: -7.59010508 +- 0.00072726\n",
      "--------------------------------------------------------------\n",
      "Step 90, energy: -7.59059221 +- 0.00048415\n",
      "--------------------------------------------------------------\n",
      "Step 100, energy: -7.58956453 +- 0.00064359\n",
      "--------------------------------------------------------------\n",
      "Step 110, energy: -7.58951145 +- 0.00102063\n",
      "--------------------------------------------------------------\n",
      "Step 120, energy: -7.59114320 +- 0.00085031\n",
      "--------------------------------------------------------------\n",
      "Step 130, energy: -7.59165122 +- 0.00056741\n",
      "--------------------------------------------------------------\n",
      "Step 140, energy: -7.59019515 +- 0.00081008\n",
      "--------------------------------------------------------------\n",
      "Step 150, energy: -7.59240226 +- 0.00098939\n",
      "--------------------------------------------------------------\n",
      "Step 160, energy: -7.59304425 +- 0.00049258\n",
      "--------------------------------------------------------------\n",
      "Step 170, energy: -7.59352045 +- 0.00038012\n",
      "--------------------------------------------------------------\n",
      "Step 180, energy: -7.59299739 +- 0.00067956\n",
      "--------------------------------------------------------------\n",
      "Step 190, energy: -7.59282076 +- 0.00049244\n",
      "--------------------------------------------------------------\n",
      "Final energy: -7.59334-0.00000j ± 0.00056 [σ²=0.00226]\n"
     ]
    }
   ],
   "source": [
    "# Loop\n",
    "for step_c in range(n_steps):\n",
    "    pars_ac, pars_q = pars_all.pop(\"quantum\")\n",
    "    pars_c, pars_a  = pars_ac.pop(\"angles\")\n",
    "    \n",
    "    # Sample from the classical distribution\n",
    "    \n",
    "    sa_state        = sa.reset( ma, pars_c, sa_state)\n",
    "    sigma, sa_state = sa.sample(ma, pars_c, state=sa_state, chain_length=n_samples)\n",
    "    \n",
    "    # Evaluate the energy both on classical and quantum computer\n",
    "    energy, grad_e = e_tot_and_grad_demo(ma, device_with_ancilla, my_circ, pars_all, sigma, sta, h_mixed)\n",
    "\n",
    "    \n",
    "        \n",
    "    ## Print energy \n",
    "    if step_c%10 == 0:\n",
    "        print(f\"Step {step_c}, energy: {energy.mean.real:.8f} +- {energy.error_of_mean:.8f}\")\n",
    "        print(\"--------------------------------------------------------------\")\n",
    "        \n",
    "    e_vec.append(energy)\n",
    "    \n",
    "\n",
    "    # Optimize parameters with optax\n",
    "    pars_all, opt_state = optimizer_step(optimizer,opt_state, grad_e, pars_all)\n",
    "    \n",
    "print(f\"Final energy: {energy}\")"
   ]
  },
  {
   "cell_type": "markdown",
   "metadata": {},
   "source": [
    "## Plot data"
   ]
  },
  {
   "cell_type": "markdown",
   "metadata": {},
   "source": [
    "#### Plot total energy"
   ]
  },
  {
   "cell_type": "code",
   "execution_count": 39,
   "metadata": {},
   "outputs": [
    {
     "data": {
      "image/png": "[encoded data removed]",
      "text/plain": [
       "<Figure size 600x500 with 1 Axes>"
      ]
     },
     "metadata": {},
     "output_type": "display_data"
    }
   ],
   "source": [
    "fig, ax = plt.subplots(1,figsize=[6.0,5.0],sharex=True)\n",
    "e_tot_ref = E_gs\n",
    "\n",
    "\n",
    "mean_e = np.asarray([np.real(energy.mean) for energy in e_vec])\n",
    "err_e  = np.asarray([np.real(energy.error_of_mean) for energy in e_vec])\n",
    "var_e  = np.asarray([np.real(energy.variance) for energy in e_vec])\n",
    "\n",
    "n_opt  = list(range(len(mean_e)))\n",
    "\n",
    "\n",
    "\n",
    "## Plot energy with error\n",
    "ax.errorbar(n_opt,mean_e-e_tot_ref,label=\"E variational\",color=\"C0\")\n",
    "\n",
    "ax.set_xlabel(\"Step\")\n",
    "ax.set_ylabel(r\"$E_{VQE}-E_{GS}$\")\n",
    "ax.legend()\n",
    "ax.grid()\n",
    "ax.set_yscale(\"log\")\n",
    "\n",
    "fig.subplots_adjust(hspace=0.04)\n",
    "plt.show()"
   ]
  },
  {
   "cell_type": "code",
   "execution_count": null,
   "metadata": {},
   "outputs": [],
   "source": []
  }
 ],
 "metadata": {
  "kernelspec": {
   "display_name": "q_embedding_new",
   "language": "python",
   "name": "python3"
  },
  "language_info": {
   "codemirror_mode": {
    "name": "ipython",
    "version": 3
   },
   "file_extension": ".py",
   "mimetype": "text/x-python",
   "name": "python",
   "nbconvert_exporter": "python",
   "pygments_lexer": "ipython3",
   "version": "3.8.13"
  },
  "orig_nbformat": 4
 },
 "nbformat": 4,
 "nbformat_minor": 2
}
